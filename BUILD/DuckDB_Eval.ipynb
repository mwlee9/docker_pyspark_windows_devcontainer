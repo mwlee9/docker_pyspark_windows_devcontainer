{
 "cells": [
  {
   "cell_type": "markdown",
   "id": "3dd16bfa",
   "metadata": {},
   "source": [
    "## Imports"
   ]
  },
  {
   "cell_type": "code",
   "execution_count": 2,
   "id": "f5fc7a16",
   "metadata": {},
   "outputs": [],
   "source": [
    "import duckdb\n",
    "con = duckdb.connect()"
   ]
  },
  {
   "cell_type": "markdown",
   "id": "bf7770db",
   "metadata": {},
   "source": [
    "## CAT"
   ]
  },
  {
   "cell_type": "code",
   "execution_count": 3,
   "id": "ea6d0c67",
   "metadata": {},
   "outputs": [],
   "source": [
    "# con.execute(\"\"\"SELECT * FROM 'category/*.parquet' limit 10;\"\"\").df()\n"
   ]
  },
  {
   "cell_type": "code",
   "execution_count": 4,
   "id": "f037a94f",
   "metadata": {},
   "outputs": [
    {
     "data": {
      "text/html": [
       "<div>\n",
       "<style scoped>\n",
       "    .dataframe tbody tr th:only-of-type {\n",
       "        vertical-align: middle;\n",
       "    }\n",
       "\n",
       "    .dataframe tbody tr th {\n",
       "        vertical-align: top;\n",
       "    }\n",
       "\n",
       "    .dataframe thead th {\n",
       "        text-align: right;\n",
       "    }\n",
       "</style>\n",
       "<table border=\"1\" class=\"dataframe\">\n",
       "  <thead>\n",
       "    <tr style=\"text-align: right;\">\n",
       "      <th></th>\n",
       "      <th>category_id</th>\n",
       "      <th>description</th>\n",
       "      <th>category_type</th>\n",
       "    </tr>\n",
       "  </thead>\n",
       "  <tbody>\n",
       "    <tr>\n",
       "      <th>0</th>\n",
       "      <td>54119904</td>\n",
       "      <td>grocery stores, chain</td>\n",
       "      <td>SIC8</td>\n",
       "    </tr>\n",
       "    <tr>\n",
       "      <th>1</th>\n",
       "      <td>54119900</td>\n",
       "      <td>grocery stores, nec</td>\n",
       "      <td>SIC8</td>\n",
       "    </tr>\n",
       "    <tr>\n",
       "      <th>2</th>\n",
       "      <td>51419900</td>\n",
       "      <td>groceries, general line, nec</td>\n",
       "      <td>SIC8</td>\n",
       "    </tr>\n",
       "    <tr>\n",
       "      <th>3</th>\n",
       "      <td>54110101</td>\n",
       "      <td>supermarkets, chains</td>\n",
       "      <td>SIC8</td>\n",
       "    </tr>\n",
       "    <tr>\n",
       "      <th>4</th>\n",
       "      <td>51990305</td>\n",
       "      <td>periodicals, wholesale</td>\n",
       "      <td>SIC8</td>\n",
       "    </tr>\n",
       "  </tbody>\n",
       "</table>\n",
       "</div>"
      ],
      "text/plain": [
       "  category_id                   description category_type\n",
       "0    54119904         grocery stores, chain          SIC8\n",
       "1    54119900           grocery stores, nec          SIC8\n",
       "2    51419900  groceries, general line, nec          SIC8\n",
       "3    54110101          supermarkets, chains          SIC8\n",
       "4    51990305        periodicals, wholesale          SIC8"
      ]
     },
     "execution_count": 4,
     "metadata": {},
     "output_type": "execute_result"
    }
   ],
   "source": [
    "cat = con.execute(\"\"\"SELECT * FROM 'category/*.parquet' \n",
    "                        WHERE description LIKE '%grocer%'\n",
    "                        OR description LIKE '%super%'\n",
    "                        OR description LIKE '%wholesale%';\"\"\").df()\n",
    "cat.head(5)"
   ]
  },
  {
   "cell_type": "code",
   "execution_count": 5,
   "id": "397bb00f",
   "metadata": {},
   "outputs": [
    {
     "data": {
      "text/html": [
       "<div>\n",
       "<style scoped>\n",
       "    .dataframe tbody tr th:only-of-type {\n",
       "        vertical-align: middle;\n",
       "    }\n",
       "\n",
       "    .dataframe tbody tr th {\n",
       "        vertical-align: top;\n",
       "    }\n",
       "\n",
       "    .dataframe thead th {\n",
       "        text-align: right;\n",
       "    }\n",
       "</style>\n",
       "<table border=\"1\" class=\"dataframe\">\n",
       "  <thead>\n",
       "    <tr style=\"text-align: right;\">\n",
       "      <th></th>\n",
       "      <th>count_star()</th>\n",
       "    </tr>\n",
       "  </thead>\n",
       "  <tbody>\n",
       "    <tr>\n",
       "      <th>0</th>\n",
       "      <td>110</td>\n",
       "    </tr>\n",
       "  </tbody>\n",
       "</table>\n",
       "</div>"
      ],
      "text/plain": [
       "   count_star()\n",
       "0           110"
      ]
     },
     "execution_count": 5,
     "metadata": {},
     "output_type": "execute_result"
    }
   ],
   "source": [
    "con.execute(\"\"\"SELECT COUNT(*) FROM cat;\"\"\").df()"
   ]
  },
  {
   "cell_type": "markdown",
   "id": "a8985468",
   "metadata": {},
   "source": [
    "## DMA"
   ]
  },
  {
   "cell_type": "code",
   "execution_count": 6,
   "id": "48bc3120",
   "metadata": {},
   "outputs": [],
   "source": [
    "# con.execute(\"\"\"SELECT * FROM 'dma/*.parquet' limit 10;\"\"\").df()"
   ]
  },
  {
   "cell_type": "code",
   "execution_count": 7,
   "id": "658eae3f",
   "metadata": {},
   "outputs": [
    {
     "data": {
      "text/html": [
       "<div>\n",
       "<style scoped>\n",
       "    .dataframe tbody tr th:only-of-type {\n",
       "        vertical-align: middle;\n",
       "    }\n",
       "\n",
       "    .dataframe tbody tr th {\n",
       "        vertical-align: top;\n",
       "    }\n",
       "\n",
       "    .dataframe thead th {\n",
       "        text-align: right;\n",
       "    }\n",
       "</style>\n",
       "<table border=\"1\" class=\"dataframe\">\n",
       "  <thead>\n",
       "    <tr style=\"text-align: right;\">\n",
       "      <th></th>\n",
       "      <th>dma_code</th>\n",
       "      <th>dma_name</th>\n",
       "    </tr>\n",
       "  </thead>\n",
       "  <tbody>\n",
       "    <tr>\n",
       "      <th>0</th>\n",
       "      <td>807</td>\n",
       "      <td>San Francisco-Oakland-San Jose, CA</td>\n",
       "    </tr>\n",
       "  </tbody>\n",
       "</table>\n",
       "</div>"
      ],
      "text/plain": [
       "   dma_code                            dma_name\n",
       "0       807  San Francisco-Oakland-San Jose, CA"
      ]
     },
     "execution_count": 7,
     "metadata": {},
     "output_type": "execute_result"
    }
   ],
   "source": [
    "# dma = con.execute(\"\"\"SELECT * FROM 'dma/*.parquet' WHERE dma_name LIKE '%CA%';\"\"\").df()\n",
    "dma = con.execute(\"\"\"SELECT * FROM 'dma/*.parquet' WHERE dma_name='San Francisco-Oakland-San Jose, CA';\"\"\").df()\n",
    "dma"
   ]
  },
  {
   "cell_type": "code",
   "execution_count": 8,
   "id": "f2f7dc5d",
   "metadata": {},
   "outputs": [
    {
     "data": {
      "text/html": [
       "<div>\n",
       "<style scoped>\n",
       "    .dataframe tbody tr th:only-of-type {\n",
       "        vertical-align: middle;\n",
       "    }\n",
       "\n",
       "    .dataframe tbody tr th {\n",
       "        vertical-align: top;\n",
       "    }\n",
       "\n",
       "    .dataframe thead th {\n",
       "        text-align: right;\n",
       "    }\n",
       "</style>\n",
       "<table border=\"1\" class=\"dataframe\">\n",
       "  <thead>\n",
       "    <tr style=\"text-align: right;\">\n",
       "      <th></th>\n",
       "      <th>count_star()</th>\n",
       "    </tr>\n",
       "  </thead>\n",
       "  <tbody>\n",
       "    <tr>\n",
       "      <th>0</th>\n",
       "      <td>1</td>\n",
       "    </tr>\n",
       "  </tbody>\n",
       "</table>\n",
       "</div>"
      ],
      "text/plain": [
       "   count_star()\n",
       "0             1"
      ]
     },
     "execution_count": 8,
     "metadata": {},
     "output_type": "execute_result"
    }
   ],
   "source": [
    "con.execute(\"\"\"SELECT COUNT(*) FROM dma;\"\"\").df()"
   ]
  },
  {
   "cell_type": "markdown",
   "id": "a361bffa",
   "metadata": {},
   "source": [
    "## Metric"
   ]
  },
  {
   "cell_type": "code",
   "execution_count": 9,
   "id": "dbad022b",
   "metadata": {},
   "outputs": [],
   "source": [
    "# con.execute(\"\"\"SELECT * FROM 'metric/*.parquet' limit 10;\"\"\").df()"
   ]
  },
  {
   "cell_type": "code",
   "execution_count": 10,
   "id": "d2cf2ce2",
   "metadata": {},
   "outputs": [],
   "source": [
    "# con.execute(\"\"\"SELECT COUNT(*) FROM 'metric/*.parquet' WHERE category='cross_shopping'\"\"\").df()\n"
   ]
  },
  {
   "cell_type": "code",
   "execution_count": 11,
   "id": "32b4aa65",
   "metadata": {},
   "outputs": [],
   "source": [
    "# met = con.execute(\"\"\"SELECT * FROM 'metric/*.parquet' WHERE category='cross_shopping' and sub_category = 'daily'\"\"\").df()\n",
    "met = con.execute(\"\"\"CREATE TEMP TABLE met AS SELECT * FROM 'metric/*.parquet' WHERE category='cross_shopping' and sub_category = 'weekly'\"\"\")"
   ]
  },
  {
   "cell_type": "code",
   "execution_count": 12,
   "id": "8e6cb0f8",
   "metadata": {},
   "outputs": [
    {
     "data": {
      "text/html": [
       "<div>\n",
       "<style scoped>\n",
       "    .dataframe tbody tr th:only-of-type {\n",
       "        vertical-align: middle;\n",
       "    }\n",
       "\n",
       "    .dataframe tbody tr th {\n",
       "        vertical-align: top;\n",
       "    }\n",
       "\n",
       "    .dataframe thead th {\n",
       "        text-align: right;\n",
       "    }\n",
       "</style>\n",
       "<table border=\"1\" class=\"dataframe\">\n",
       "  <thead>\n",
       "    <tr style=\"text-align: right;\">\n",
       "      <th></th>\n",
       "      <th>count_star()</th>\n",
       "    </tr>\n",
       "  </thead>\n",
       "  <tbody>\n",
       "    <tr>\n",
       "      <th>0</th>\n",
       "      <td>34146733</td>\n",
       "    </tr>\n",
       "  </tbody>\n",
       "</table>\n",
       "</div>"
      ],
      "text/plain": [
       "   count_star()\n",
       "0      34146733"
      ]
     },
     "execution_count": 12,
     "metadata": {},
     "output_type": "execute_result"
    }
   ],
   "source": [
    "con.execute(\"\"\"SELECT COUNT(*) FROM met;\"\"\").df()"
   ]
  },
  {
   "cell_type": "markdown",
   "id": "7cdb09ae",
   "metadata": {},
   "source": [
    "## Place"
   ]
  },
  {
   "cell_type": "code",
   "execution_count": 13,
   "id": "b6431408",
   "metadata": {},
   "outputs": [],
   "source": [
    "# con.execute(\"\"\"SELECT * FROM 'place/*.parquet' limit 10;\"\"\").df()"
   ]
  },
  {
   "cell_type": "code",
   "execution_count": 14,
   "id": "34e08a39",
   "metadata": {},
   "outputs": [],
   "source": [
    "# place = con.execute(\"\"\"SELECT * FROM 'place/*.parquet' WHERE names LIKE '%Whole Food%';\"\"\").df()\n",
    "place = con.execute(\"\"\"CREATE TEMP TABLE plc AS SELECT * FROM 'place/*.parquet' WHERE names LIKE '%Whole Food%';\"\"\")"
   ]
  },
  {
   "cell_type": "code",
   "execution_count": 15,
   "id": "aa8f05db",
   "metadata": {},
   "outputs": [
    {
     "data": {
      "text/html": [
       "<div>\n",
       "<style scoped>\n",
       "    .dataframe tbody tr th:only-of-type {\n",
       "        vertical-align: middle;\n",
       "    }\n",
       "\n",
       "    .dataframe tbody tr th {\n",
       "        vertical-align: top;\n",
       "    }\n",
       "\n",
       "    .dataframe thead th {\n",
       "        text-align: right;\n",
       "    }\n",
       "</style>\n",
       "<table border=\"1\" class=\"dataframe\">\n",
       "  <thead>\n",
       "    <tr style=\"text-align: right;\">\n",
       "      <th></th>\n",
       "      <th>Count</th>\n",
       "    </tr>\n",
       "  </thead>\n",
       "  <tbody>\n",
       "    <tr>\n",
       "      <th>0</th>\n",
       "      <td>794</td>\n",
       "    </tr>\n",
       "  </tbody>\n",
       "</table>\n",
       "</div>"
      ],
      "text/plain": [
       "   Count\n",
       "0    794"
      ]
     },
     "execution_count": 15,
     "metadata": {},
     "output_type": "execute_result"
    }
   ],
   "source": [
    "place.df()"
   ]
  },
  {
   "cell_type": "code",
   "execution_count": 16,
   "id": "aba60b23",
   "metadata": {},
   "outputs": [
    {
     "data": {
      "text/html": [
       "<div>\n",
       "<style scoped>\n",
       "    .dataframe tbody tr th:only-of-type {\n",
       "        vertical-align: middle;\n",
       "    }\n",
       "\n",
       "    .dataframe tbody tr th {\n",
       "        vertical-align: top;\n",
       "    }\n",
       "\n",
       "    .dataframe thead th {\n",
       "        text-align: right;\n",
       "    }\n",
       "</style>\n",
       "<table border=\"1\" class=\"dataframe\">\n",
       "  <thead>\n",
       "    <tr style=\"text-align: right;\">\n",
       "      <th></th>\n",
       "      <th>count_star()</th>\n",
       "    </tr>\n",
       "  </thead>\n",
       "  <tbody>\n",
       "    <tr>\n",
       "      <th>0</th>\n",
       "      <td>794</td>\n",
       "    </tr>\n",
       "  </tbody>\n",
       "</table>\n",
       "</div>"
      ],
      "text/plain": [
       "   count_star()\n",
       "0           794"
      ]
     },
     "execution_count": 16,
     "metadata": {},
     "output_type": "execute_result"
    }
   ],
   "source": [
    "con.execute(\"\"\"SELECT COUNT(*) FROM plc;\"\"\").df()"
   ]
  },
  {
   "cell_type": "markdown",
   "id": "d09c440f",
   "metadata": {},
   "source": [
    "## Pre-join EDA"
   ]
  },
  {
   "cell_type": "markdown",
   "id": "3bc39bbc",
   "metadata": {},
   "source": [
    "## Join df's"
   ]
  },
  {
   "cell_type": "code",
   "execution_count": 17,
   "id": "aa83d2e0",
   "metadata": {},
   "outputs": [],
   "source": [
    "join_df = con.execute(\"\"\"SELECT * FROM plc \n",
    "                            --JOIN cat ON plc.category_ids=cat.category_id\n",
    "                            JOIN dma ON plc.dma_id=dma.dma_code\n",
    "                            JOIN met ON plc.spatial_id=met.spatial_id;\"\"\").df()"
   ]
  },
  {
   "cell_type": "code",
   "execution_count": 20,
   "id": "e865c0a1",
   "metadata": {},
   "outputs": [],
   "source": [
    "# con.execute(\"\"\"SELECT COUNT(*) FROM join_df;\"\"\")\n",
    "g_df = con.execute(\"\"\"SELECT metric, SUM(value) FROM join_df GROUP BY metric ORDER BY metric DESC;\"\"\").df()"
   ]
  },
  {
   "cell_type": "code",
   "execution_count": 21,
   "id": "bf2e50c3",
   "metadata": {},
   "outputs": [],
   "source": [
    "g_df.to_csv('g_df.csv')"
   ]
  },
  {
   "cell_type": "code",
   "execution_count": null,
   "id": "0f70f0bf",
   "metadata": {},
   "outputs": [],
   "source": []
  }
 ],
 "metadata": {
  "kernelspec": {
   "display_name": "Python 3 (ipykernel)",
   "language": "python",
   "name": "python3"
  },
  "language_info": {
   "codemirror_mode": {
    "name": "ipython",
    "version": 3
   },
   "file_extension": ".py",
   "mimetype": "text/x-python",
   "name": "python",
   "nbconvert_exporter": "python",
   "pygments_lexer": "ipython3",
   "version": "3.7.7"
  }
 },
 "nbformat": 4,
 "nbformat_minor": 5
}
