{
 "cells": [
  {
   "cell_type": "markdown",
   "id": "3dd16bfa",
   "metadata": {},
   "source": [
    "## Imports"
   ]
  },
  {
   "cell_type": "code",
   "execution_count": 7,
   "id": "f5fc7a16",
   "metadata": {},
   "outputs": [],
   "source": [
    "import duckdb\n",
    "import os\n",
    "import yaml\n",
    "\n",
    "con = duckdb.connect()"
   ]
  },
  {
   "cell_type": "code",
   "execution_count": 8,
   "id": "73118c83-c8fb-4005-8c42-3d50e1a044d7",
   "metadata": {},
   "outputs": [
    {
     "name": "stdout",
     "output_type": "stream",
     "text": [
      "Read successful\n"
     ]
    }
   ],
   "source": [
    "with open(\"../config.yaml\", \"r\") as yamlfile:\n",
    "    keys = yaml.load(yamlfile, Loader=yaml.FullLoader)\n",
    "    print(\"Read successful\")"
   ]
  },
  {
   "cell_type": "markdown",
   "id": "bf7770db",
   "metadata": {},
   "source": [
    "## CAT"
   ]
  },
  {
   "cell_type": "code",
   "execution_count": 9,
   "id": "ea6d0c67",
   "metadata": {},
   "outputs": [
    {
     "data": {
      "text/plain": [
       "<duckdb.DuckDBPyConnection at 0x7f9ab0199eb0>"
      ]
     },
     "execution_count": 9,
     "metadata": {},
     "output_type": "execute_result"
    }
   ],
   "source": [
    "# con.execute(\"\"\"SELECT * FROM 'category/*.parquet' limit 10;\"\"\").df()\n",
    "con.execute(\"\"\"INSTALL httpfs;\"\"\")\n",
    "con.execute(\"\"\"LOAD httpfs;\"\"\")"
   ]
  },
  {
   "cell_type": "code",
   "execution_count": 10,
   "id": "c4c4dd90-edec-4211-bcd1-2dc2bd6ca14c",
   "metadata": {},
   "outputs": [
    {
     "data": {
      "text/plain": [
       "<duckdb.DuckDBPyConnection at 0x7f9ab0199eb0>"
      ]
     },
     "execution_count": 10,
     "metadata": {},
     "output_type": "execute_result"
    }
   ],
   "source": [
    "con.execute(f\"\"\"SET s3_access_key_id='{keys[0]['s3_access_key_id']}';\"\"\")\n",
    "con.execute(f\"\"\"SET s3_secret_access_key='{keys[0]['s3_secret_access_key']}';\"\"\")\n",
    "con.execute(\"\"\"SET s3_region='us-east-1';\"\"\")\n"
   ]
  },
  {
   "cell_type": "code",
   "execution_count": 11,
   "id": "107e404b-fb40-4995-91b2-b31b628e980d",
   "metadata": {},
   "outputs": [
    {
     "ename": "RuntimeError",
     "evalue": "Invalid Input Error: Error in file \"s3://wfm-marketing-data-exchange/E-Commerce Analytics/traffic-hits-test/\": CSV options could not be auto-detected. Consider setting parser options manually.",
     "output_type": "error",
     "traceback": [
      "\u001b[0;31m---------------------------------------------------------------------------\u001b[0m",
      "\u001b[0;31mRuntimeError\u001b[0m                              Traceback (most recent call last)",
      "\u001b[0;32m/tmp/ipykernel_174/1502376620.py\u001b[0m in \u001b[0;36m<module>\u001b[0;34m\u001b[0m\n\u001b[1;32m      5\u001b[0m \u001b[0mpath_to_file_or_folder\u001b[0m \u001b[0;34m=\u001b[0m \u001b[0;34m\"E-Commerce Analytics/traffic-hits-test/\"\u001b[0m\u001b[0;34m\u001b[0m\u001b[0;34m\u001b[0m\u001b[0m\n\u001b[1;32m      6\u001b[0m \u001b[0;34m\u001b[0m\u001b[0m\n\u001b[0;32m----> 7\u001b[0;31m \u001b[0mtest\u001b[0m \u001b[0;34m=\u001b[0m \u001b[0mcon\u001b[0m\u001b[0;34m.\u001b[0m\u001b[0mexecute\u001b[0m\u001b[0;34m(\u001b[0m\u001b[0;34mf\"\"\"SELECT * FROM read_csv('s3://{root_bucket_path}/{path_to_file_or_folder}', AUTO_DETECT=TRUE);\"\"\"\u001b[0m\u001b[0;34m)\u001b[0m\u001b[0;34m\u001b[0m\u001b[0;34m\u001b[0m\u001b[0m\n\u001b[0m",
      "\u001b[0;31mRuntimeError\u001b[0m: Invalid Input Error: Error in file \"s3://wfm-marketing-data-exchange/E-Commerce Analytics/traffic-hits-test/\": CSV options could not be auto-detected. Consider setting parser options manually."
     ]
    }
   ],
   "source": [
    "### Name of the bucket\n",
    "root_bucket_path = \"wfm-marketing-data-exchange\"\n",
    "\n",
    "### Use * to query ALL files in that folder path, otherwise point directly to the .csv file in the bucket sub folder.\n",
    "path_to_file_or_folder = \"E-Commerce Analytics/traffic-hits-test/\"\n",
    "\n",
    "test = con.execute(f\"\"\"SELECT * FROM read_csv('s3://{root_bucket_path}/{path_to_file_or_folder}', AUTO_DETECT=TRUE);\"\"\")"
   ]
  },
  {
   "cell_type": "code",
   "execution_count": null,
   "id": "f037a94f",
   "metadata": {},
   "outputs": [],
   "source": [
    "test.df()"
   ]
  },
  {
   "cell_type": "markdown",
   "id": "a8985468",
   "metadata": {},
   "source": [
    "## Example Parquet Queries"
   ]
  },
  {
   "cell_type": "code",
   "execution_count": null,
   "id": "658eae3f",
   "metadata": {},
   "outputs": [],
   "source": [
    "dma = con.execute(\"\"\"SELECT * FROM 'dma/*.parquet' WHERE dma_name='San Francisco-Oakland-San Jose, CA';\"\"\").df()\n",
    "dma"
   ]
  },
  {
   "cell_type": "code",
   "execution_count": null,
   "id": "f2f7dc5d",
   "metadata": {},
   "outputs": [],
   "source": [
    "con.execute(\"\"\"SELECT COUNT(*) FROM dma;\"\"\").df()"
   ]
  },
  {
   "cell_type": "markdown",
   "id": "a361bffa",
   "metadata": {},
   "source": [
    "## Example Parquet Queries WITH Temp Table Creation"
   ]
  },
  {
   "cell_type": "code",
   "execution_count": null,
   "id": "32b4aa65",
   "metadata": {},
   "outputs": [],
   "source": [
    "met = con.execute(\"\"\"CREATE TEMP TABLE met AS SELECT * FROM 'metric/*.parquet' WHERE category='cross_shopping' and sub_category = 'weekly'\"\"\")"
   ]
  },
  {
   "cell_type": "code",
   "execution_count": null,
   "id": "8e6cb0f8",
   "metadata": {},
   "outputs": [],
   "source": [
    "con.execute(\"\"\"SELECT COUNT(*) FROM met;\"\"\").df()"
   ]
  },
  {
   "cell_type": "markdown",
   "id": "d09c440f",
   "metadata": {},
   "source": [
    "## Pre-join EDA"
   ]
  },
  {
   "cell_type": "markdown",
   "id": "3bc39bbc",
   "metadata": {},
   "source": [
    "## Example Join df's"
   ]
  },
  {
   "cell_type": "code",
   "execution_count": null,
   "id": "aa83d2e0",
   "metadata": {},
   "outputs": [],
   "source": [
    "join_df = con.execute(\"\"\"SELECT * FROM plc \n",
    "                            --JOIN cat ON plc.category_ids=cat.category_id\n",
    "                            JOIN dma ON plc.dma_id=dma.dma_code\n",
    "                            JOIN met ON plc.spatial_id=met.spatial_id;\"\"\").df()"
   ]
  },
  {
   "cell_type": "code",
   "execution_count": null,
   "id": "e865c0a1",
   "metadata": {},
   "outputs": [],
   "source": [
    "# con.execute(\"\"\"SELECT COUNT(*) FROM join_df;\"\"\")\n",
    "g_df = con.execute(\"\"\"SELECT metric, SUM(value) FROM join_df GROUP BY metric ORDER BY metric DESC;\"\"\").df()"
   ]
  },
  {
   "cell_type": "code",
   "execution_count": null,
   "id": "bf2e50c3",
   "metadata": {},
   "outputs": [],
   "source": [
    "g_df.to_csv('g_df.csv')"
   ]
  }
 ],
 "metadata": {
  "kernelspec": {
   "display_name": "Python 3 (ipykernel)",
   "language": "python",
   "name": "python3"
  },
  "language_info": {
   "codemirror_mode": {
    "name": "ipython",
    "version": 3
   },
   "file_extension": ".py",
   "mimetype": "text/x-python",
   "name": "python",
   "nbconvert_exporter": "python",
   "pygments_lexer": "ipython3",
   "version": "3.7.7"
  }
 },
 "nbformat": 4,
 "nbformat_minor": 5
}
