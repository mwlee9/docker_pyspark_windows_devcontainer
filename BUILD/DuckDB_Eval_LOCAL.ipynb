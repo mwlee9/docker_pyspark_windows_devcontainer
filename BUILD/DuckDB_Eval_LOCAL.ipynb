{
 "cells": [
  {
   "cell_type": "markdown",
   "id": "3dd16bfa",
   "metadata": {},
   "source": [
    "## Imports"
   ]
  },
  {
   "cell_type": "code",
   "execution_count": null,
   "id": "f5fc7a16",
   "metadata": {},
   "outputs": [],
   "source": [
    "import duckdb\n",
    "import os\n",
    "import yaml\n",
    "\n",
    "%load_ext sql"
   ]
  },
  {
   "cell_type": "code",
   "execution_count": null,
   "id": "80dabc96-b54c-4da5-a4b1-60ecd4f66e9f",
   "metadata": {},
   "outputs": [],
   "source": [
    "# %sql duckdb:///:memory:\n",
    "%sql duckdb:///OCQP_sandbox.db"
   ]
  },
  {
   "cell_type": "code",
   "execution_count": null,
   "id": "d5a2fb43-50b1-42b5-a28c-8ef675e6cc76",
   "metadata": {},
   "outputs": [],
   "source": [
    "%%sql\n",
    "DROP TABLE IF EXISTS OCQP;\n",
    "-- read all files with a name ending in \".csv\", two directories deep\n",
    "CREATE TABLE OCQP AS SELECT * FROM parquet_scan('*/*/*.parquet');\n",
    "\n"
   ]
  },
  {
   "cell_type": "code",
   "execution_count": null,
   "id": "a18378b5-287a-4c3c-afd0-10c81b230376",
   "metadata": {},
   "outputs": [],
   "source": [
    "%%sql\n",
    "SELECT * FROM OCQP"
   ]
  }
 ],
 "metadata": {
  "kernelspec": {
   "display_name": "Python 3 (ipykernel)",
   "language": "python",
   "name": "python3"
  },
  "language_info": {
   "codemirror_mode": {
    "name": "ipython",
    "version": 3
   },
   "file_extension": ".py",
   "mimetype": "text/x-python",
   "name": "python",
   "nbconvert_exporter": "python",
   "pygments_lexer": "ipython3",
   "version": "3.7.7"
  }
 },
 "nbformat": 4,
 "nbformat_minor": 5
}
